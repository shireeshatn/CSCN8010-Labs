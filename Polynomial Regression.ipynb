{
 "cells": [
  {
   "cell_type": "markdown",
   "metadata": {},
   "source": [
    "<h1 align=\"center\" style=\"color: blue; font-weight: bold;\n",
    "font-family: 'Fira Code', monospace;\">Practical Lab 4 - Polynomial Regression, R-Squared, MAPE</h1>\n",
    "\n"
   ]
  },
  {
   "cell_type": "markdown",
   "metadata": {},
   "source": [
    "In this Notebook, I will walk you through the process of building and evaluating univariate polynomial regression models for predicting diabetes progression based on the body mass index (BMI) feature. Our goal is to provide a screening tool for physicians to identify patients at risk. I have followed a structured machine learning workflow to ensure clarity and ease of understanding.\n"
   ]
  },
  {
   "cell_type": "markdown",
   "metadata": {},
   "source": [
    "#### Import the Packages"
   ]
  },
  {
   "cell_type": "code",
   "execution_count": null,
   "metadata": {},
   "outputs": [],
   "source": [
    "import numpy as np\n",
    "import pandas as pd\n",
    "import matplotlib.pyplot as plt\n",
    "from sklearn import datasets\n",
    "from sklearn.model_selection import train_test_split\n",
    "from sklearn.preprocessing import PolynomialFeatures\n",
    "from sklearn.linear_model import LinearRegression\n",
    "from sklearn.metrics import r2_score, mean_absolute_percentage_error, mean_absolute_error"
   ]
  },
  {
   "cell_type": "markdown",
   "metadata": {},
   "source": [
    "### **Load the Data**"
   ]
  },
  {
   "cell_type": "markdown",
   "metadata": {},
   "source": [
    "Diabetics Dataset\n",
    "\n",
    "For each(n) of the 442 diabetes patients, ten initial characteristics were recorded, including age, gender, body mass index, average blood pressure, and six blood serum measurements. Additionally, the quantitative measure of disease progression one year after the initial assessment was also documented as the response of interest.\n",
    "\n",
    "[Dataset Source link](https://www4.stat.ncsu.edu/~boos/var.select/diabetes.tab.txt)\n",
    "\n",
    "Data characteristics\n",
    "\n",
    "| Information               | Description                                                                        |\n",
    "|---------------------------|---------------------------------------------------------------------------         |\n",
    "| Number of Instances       | 442                                                                                |\n",
    "| Number of Attributes      | First 10 columns are numeric predictive values                                     |\n",
    "| Target                    | Column 11 is a quantitative measure of disease progression one year after baseline |\n",
    "| Attribute Information     |                                                                                    |\n",
    "|                           | age - age in years                                                                 |\n",
    "|                           | sex                                                                                |\n",
    "|                           | bmi - body mass index                                                              |\n",
    "|                           | bp - average blood pressure                                                        |\n",
    "|                           | s1 - tc, total serum cholesterol                                                   |\n",
    "|                           | s2 - ldl, low-density lipoproteins                                                 |\n",
    "|                           | s3 - hdl, high-density lipoproteins                                                |\n",
    "|                           | s4 - tch, total cholesterol / HDL                                                  |\n",
    "|                           | s5 - ltg, possibly log of serum triglycerides level                                |\n",
    "|                           | s6 - glu, blood sugar level                                                        |\n"
   ]
  },
  {
   "cell_type": "code",
   "execution_count": null,
   "metadata": {},
   "outputs": [],
   "source": [
    "data = datasets.load_diabetes()"
   ]
  },
  {
   "cell_type": "markdown",
   "metadata": {},
   "source": [
    "#### **Frame the Problem**\n",
    "\n",
    "Task is to predict diabetes progression using univariate polynomial regression, with BMI as the independent variable and diabetes progression as the dependent variable."
   ]
  },
  {
   "cell_type": "markdown",
   "metadata": {},
   "source": [
    "### **Exploratory Data Analysis (EDA)**"
   ]
  },
  {
   "cell_type": "code",
   "execution_count": null,
   "metadata": {},
   "outputs": [],
   "source": [
    "df = pd.DataFrame(data.data, columns=data.feature_names)\n",
    "\n",
    "EDA= df.describe()\n",
    "print(EDA)\n",
    "df.head()"
   ]
  }
 ],
 "metadata": {
  "kernelspec": {
   "display_name": "CSCN8010_classic_ml",
   "language": "python",
   "name": "python3"
  },
  "language_info": {
   "codemirror_mode": {
    "name": "ipython",
    "version": 3
   },
   "file_extension": ".py",
   "mimetype": "text/x-python",
   "name": "python",
   "nbconvert_exporter": "python",
   "pygments_lexer": "ipython3",
   "version": "3.10.2"
  }
 },
 "nbformat": 4,
 "nbformat_minor": 2
}
